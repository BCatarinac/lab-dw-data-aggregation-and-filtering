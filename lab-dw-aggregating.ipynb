{
 "cells": [
  {
   "cell_type": "markdown",
   "id": "31969215-2a90-4d8b-ac36-646a7ae13744",
   "metadata": {
    "id": "31969215-2a90-4d8b-ac36-646a7ae13744"
   },
   "source": [
    "# Lab | Data Aggregation and Filtering"
   ]
  },
  {
   "cell_type": "markdown",
   "id": "a8f08a52-bec0-439b-99cc-11d3809d8b5d",
   "metadata": {
    "id": "a8f08a52-bec0-439b-99cc-11d3809d8b5d"
   },
   "source": [
    "In this challenge, we will continue to work with customer data from an insurance company. We will use the dataset called marketing_customer_analysis.csv, which can be found at the following link:\n",
    "\n",
    "https://raw.githubusercontent.com/data-bootcamp-v4/data/main/marketing_customer_analysis.csv\n",
    "\n",
    "This dataset contains information such as customer demographics, policy details, vehicle information, and the customer's response to the last marketing campaign. Our goal is to explore and analyze this data by first performing data cleaning, formatting, and structuring."
   ]
  },
  {
   "cell_type": "code",
   "execution_count": 4,
   "id": "f2f51a86",
   "metadata": {},
   "outputs": [
    {
     "name": "stdout",
     "output_type": "stream",
     "text": [
      "   Unnamed: 0 Customer       State  Customer Lifetime Value Response  \\\n",
      "0           0  DK49336     Arizona              4809.216960       No   \n",
      "1           1  KX64629  California              2228.525238       No   \n",
      "2           2  LZ68649  Washington             14947.917300       No   \n",
      "3           3  XL78013      Oregon             22332.439460      Yes   \n",
      "4           4  QA50777      Oregon              9025.067525       No   \n",
      "\n",
      "   Coverage Education Effective To Date EmploymentStatus Gender  ...  \\\n",
      "0     Basic   College           2/18/11         Employed      M  ...   \n",
      "1     Basic   College           1/18/11       Unemployed      F  ...   \n",
      "2     Basic  Bachelor           2/10/11         Employed      M  ...   \n",
      "3  Extended   College           1/11/11         Employed      M  ...   \n",
      "4   Premium  Bachelor           1/17/11    Medical Leave      F  ...   \n",
      "\n",
      "   Number of Open Complaints Number of Policies     Policy Type        Policy  \\\n",
      "0                        0.0                  9  Corporate Auto  Corporate L3   \n",
      "1                        0.0                  1   Personal Auto   Personal L3   \n",
      "2                        0.0                  2   Personal Auto   Personal L3   \n",
      "3                        0.0                  2  Corporate Auto  Corporate L3   \n",
      "4                        NaN                  7   Personal Auto   Personal L2   \n",
      "\n",
      "   Renew Offer Type  Sales Channel  Total Claim Amount  Vehicle Class  \\\n",
      "0            Offer3          Agent          292.800000  Four-Door Car   \n",
      "1            Offer4    Call Center          744.924331  Four-Door Car   \n",
      "2            Offer3    Call Center          480.000000            SUV   \n",
      "3            Offer2         Branch          484.013411  Four-Door Car   \n",
      "4            Offer1         Branch          707.925645  Four-Door Car   \n",
      "\n",
      "  Vehicle Size Vehicle Type  \n",
      "0      Medsize          NaN  \n",
      "1      Medsize          NaN  \n",
      "2      Medsize            A  \n",
      "3      Medsize            A  \n",
      "4      Medsize          NaN  \n",
      "\n",
      "[5 rows x 26 columns]\n"
     ]
    }
   ],
   "source": [
    "# Your code goes here\n",
    "\n",
    "import pandas as pd\n",
    "\n",
    "file_url = 'https://raw.githubusercontent.com/data-bootcamp-v4/data/main/marketing_customer_analysis.csv'\n",
    "df = pd.read_csv(file_url)\n",
    "\n",
    "print(df.head())\n"
   ]
  },
  {
   "cell_type": "markdown",
   "id": "9c98ddc5-b041-4c94-ada1-4dfee5c98e50",
   "metadata": {
    "id": "9c98ddc5-b041-4c94-ada1-4dfee5c98e50"
   },
   "source": [
    "1. Create a new DataFrame that only includes customers who have a total_claim_amount greater than $1,000 and have a response of \"Yes\" to the last marketing campaign."
   ]
  },
  {
   "cell_type": "code",
   "execution_count": 7,
   "id": "fe7014a4",
   "metadata": {},
   "outputs": [
    {
     "name": "stdout",
     "output_type": "stream",
     "text": [
      "   unnamed:_0 customer       state  customer_lifetime_value response  \\\n",
      "0           0  DK49336     Arizona              4809.216960       No   \n",
      "1           1  KX64629  California              2228.525238       No   \n",
      "2           2  LZ68649  Washington             14947.917300       No   \n",
      "3           3  XL78013      Oregon             22332.439460      Yes   \n",
      "4           4  QA50777      Oregon              9025.067525       No   \n",
      "\n",
      "   coverage education effective_to_date employmentstatus gender  ...  \\\n",
      "0     Basic   College           2/18/11         Employed      M  ...   \n",
      "1     Basic   College           1/18/11       Unemployed      F  ...   \n",
      "2     Basic  Bachelor           2/10/11         Employed      M  ...   \n",
      "3  Extended   College           1/11/11         Employed      M  ...   \n",
      "4   Premium  Bachelor           1/17/11    Medical Leave      F  ...   \n",
      "\n",
      "   number_of_open_complaints number_of_policies     policy_type        policy  \\\n",
      "0                        0.0                  9  Corporate Auto  Corporate L3   \n",
      "1                        0.0                  1   Personal Auto   Personal L3   \n",
      "2                        0.0                  2   Personal Auto   Personal L3   \n",
      "3                        0.0                  2  Corporate Auto  Corporate L3   \n",
      "4                        NaN                  7   Personal Auto   Personal L2   \n",
      "\n",
      "   renew_offer_type  sales_channel  total_claim_amount  vehicle_class  \\\n",
      "0            Offer3          Agent          292.800000  Four-Door Car   \n",
      "1            Offer4    Call Center          744.924331  Four-Door Car   \n",
      "2            Offer3    Call Center          480.000000            SUV   \n",
      "3            Offer2         Branch          484.013411  Four-Door Car   \n",
      "4            Offer1         Branch          707.925645  Four-Door Car   \n",
      "\n",
      "  vehicle_size vehicle_type  \n",
      "0      Medsize          NaN  \n",
      "1      Medsize          NaN  \n",
      "2      Medsize            A  \n",
      "3      Medsize            A  \n",
      "4      Medsize          NaN  \n",
      "\n",
      "[5 rows x 26 columns]\n"
     ]
    }
   ],
   "source": [
    "df.columns = df.columns.str.lower().str.replace(' ', '_')\n",
    "\n",
    "print(df.head())\n"
   ]
  },
  {
   "cell_type": "code",
   "execution_count": 8,
   "id": "3e99ae6c",
   "metadata": {},
   "outputs": [
    {
     "name": "stdout",
     "output_type": "stream",
     "text": [
      "     unnamed:_0 customer       state  customer_lifetime_value response  \\\n",
      "189         189  OK31456  California             11009.130490      Yes   \n",
      "236         236  YJ16163      Oregon             11009.130490      Yes   \n",
      "419         419  GW43195      Oregon             25807.063000      Yes   \n",
      "442         442  IP94270     Arizona             13736.132500      Yes   \n",
      "587         587  FJ28407  California              5619.689084      Yes   \n",
      "\n",
      "     coverage             education effective_to_date employmentstatus gender  \\\n",
      "189   Premium              Bachelor           1/24/11         Employed      F   \n",
      "236   Premium              Bachelor           1/24/11         Employed      F   \n",
      "419  Extended               College           2/13/11         Employed      F   \n",
      "442   Premium                Master           2/13/11         Disabled      F   \n",
      "587   Premium  High School or Below           1/26/11       Unemployed      M   \n",
      "\n",
      "     ...  number_of_open_complaints number_of_policies     policy_type  \\\n",
      "189  ...                        0.0                  1  Corporate Auto   \n",
      "236  ...                        0.0                  1    Special Auto   \n",
      "419  ...                        1.0                  2   Personal Auto   \n",
      "442  ...                        0.0                  8   Personal Auto   \n",
      "587  ...                        0.0                  1   Personal Auto   \n",
      "\n",
      "           policy  renew_offer_type  sales_channel  total_claim_amount  \\\n",
      "189  Corporate L3            Offer2          Agent         1358.400000   \n",
      "236    Special L3            Offer2          Agent         1358.400000   \n",
      "419   Personal L2            Offer1         Branch         1027.200000   \n",
      "442   Personal L2            Offer1            Web         1261.319869   \n",
      "587   Personal L1            Offer2            Web         1027.000029   \n",
      "\n",
      "     vehicle_class vehicle_size vehicle_type  \n",
      "189     Luxury Car      Medsize          NaN  \n",
      "236     Luxury Car      Medsize            A  \n",
      "419     Luxury Car        Small            A  \n",
      "442            SUV      Medsize            A  \n",
      "587            SUV      Medsize            A  \n",
      "\n",
      "[5 rows x 26 columns]\n"
     ]
    }
   ],
   "source": [
    "df = df[(df['total_claim_amount'] > 1000) & (df['response'] == 'Yes')]\n",
    "\n",
    "print(df.head())"
   ]
  },
  {
   "cell_type": "markdown",
   "id": "b9be383e-5165-436e-80c8-57d4c757c8c3",
   "metadata": {
    "id": "b9be383e-5165-436e-80c8-57d4c757c8c3"
   },
   "source": [
    "2. Using the original Dataframe, analyze the average total_claim_amount by each policy type and gender for customers who have responded \"Yes\" to the last marketing campaign. Write your conclusions."
   ]
  },
  {
   "cell_type": "code",
   "execution_count": 9,
   "id": "db12bac6",
   "metadata": {},
   "outputs": [
    {
     "name": "stdout",
     "output_type": "stream",
     "text": [
      "      policy_type gender  total_claim_amount\n",
      "0  Corporate Auto      F         1138.400000\n",
      "1  Corporate Auto      M         1171.150007\n",
      "2   Personal Auto      F         1214.853805\n",
      "3   Personal Auto      M         1137.861443\n",
      "4    Special Auto      F         1358.400000\n",
      "5    Special Auto      M         1017.500015\n"
     ]
    }
   ],
   "source": [
    "df = df[df['response'] == 'Yes']\n",
    "\n",
    "pivot_table = df.pivot_table(values='total_claim_amount', index=['policy_type', 'gender'], aggfunc='mean').reset_index()\n",
    "\n",
    "print(pivot_table)\n"
   ]
  },
  {
   "cell_type": "code",
   "execution_count": null,
   "id": "c92c0ab7",
   "metadata": {},
   "outputs": [],
   "source": [
    "# Male customers have on average a slightly higher total claim amounts compared to female customers for corporate auto policies. \n",
    "# Female customers have on average a slightly higher total claim amounts compared to male customers for personal auto policies. \n",
    "# And for special auto policies, female customers have on average a significantly higher total claim amounts compared to male customers."
   ]
  },
  {
   "cell_type": "markdown",
   "id": "7050f4ac-53c5-4193-a3c0-8699b87196f0",
   "metadata": {
    "id": "7050f4ac-53c5-4193-a3c0-8699b87196f0"
   },
   "source": [
    "3. Analyze the total number of customers who have policies in each state, and then filter the results to only include states where there are more than 500 customers."
   ]
  },
  {
   "cell_type": "code",
   "execution_count": 11,
   "id": "143b8ab4",
   "metadata": {},
   "outputs": [
    {
     "name": "stdout",
     "output_type": "stream",
     "text": [
      "        state  customer_count\n",
      "0     Arizona               8\n",
      "1  California              24\n",
      "2      Nevada               3\n",
      "3      Oregon              27\n",
      "4  Washington               5\n"
     ]
    }
   ],
   "source": [
    "state_counts = df.groupby('state').size().reset_index(name='customer_count')\n",
    "print(state_counts)"
   ]
  },
  {
   "cell_type": "code",
   "execution_count": 12,
   "id": "0ad44d87",
   "metadata": {},
   "outputs": [
    {
     "name": "stdout",
     "output_type": "stream",
     "text": [
      "Empty DataFrame\n",
      "Columns: [state, customer_count]\n",
      "Index: []\n"
     ]
    }
   ],
   "source": [
    "states_more_than_500_customers = state_counts[state_counts['customer_count'] > 500]\n",
    "print(states_more_than_500_customers)"
   ]
  },
  {
   "cell_type": "markdown",
   "id": "b60a4443-a1a7-4bbf-b78e-9ccdf9895e0d",
   "metadata": {
    "id": "b60a4443-a1a7-4bbf-b78e-9ccdf9895e0d"
   },
   "source": [
    "4. Find the maximum, minimum, and median customer lifetime value by education level and gender. Write your conclusions."
   ]
  },
  {
   "cell_type": "code",
   "execution_count": 13,
   "id": "c66ac6ef",
   "metadata": {},
   "outputs": [
    {
     "name": "stdout",
     "output_type": "stream",
     "text": [
      "              education gender           max           min        median\n",
      "0              Bachelor      F  11009.130490   8427.172486  10179.717040\n",
      "1               College      F  25807.063000  25807.063000  25807.063000\n",
      "2               College      M   7840.165778   3508.569533   5674.367656\n",
      "3  High School or Below      M  10963.957230   5619.689084   8291.823157\n",
      "4                Master      F  19160.989940  13736.132500  16448.561220\n"
     ]
    }
   ],
   "source": [
    "customer_lifetime = df.groupby(['education', 'gender'])['customer_lifetime_value'].agg(['max', 'min', 'median']).reset_index()\n",
    "print(customer_lifetime)"
   ]
  },
  {
   "cell_type": "code",
   "execution_count": 14,
   "id": "f22155b1",
   "metadata": {},
   "outputs": [],
   "source": [
    "# female customers with a College education have the highest maximum customer lifetime value."
   ]
  },
  {
   "cell_type": "markdown",
   "id": "b42999f9-311f-481e-ae63-40a5577072c5",
   "metadata": {
    "id": "b42999f9-311f-481e-ae63-40a5577072c5"
   },
   "source": [
    "## Bonus"
   ]
  },
  {
   "cell_type": "markdown",
   "id": "81ff02c5-6584-4f21-a358-b918697c6432",
   "metadata": {
    "id": "81ff02c5-6584-4f21-a358-b918697c6432"
   },
   "source": [
    "5. The marketing team wants to analyze the number of policies sold by state and month. Present the data in a table where the months are arranged as columns and the states are arranged as rows."
   ]
  },
  {
   "cell_type": "markdown",
   "id": "b6aec097-c633-4017-a125-e77a97259cda",
   "metadata": {
    "id": "b6aec097-c633-4017-a125-e77a97259cda"
   },
   "source": [
    "6.  Display a new DataFrame that contains the number of policies sold by month, by state, for the top 3 states with the highest number of policies sold.\n",
    "\n",
    "*Hint:*\n",
    "- *To accomplish this, you will first need to group the data by state and month, then count the number of policies sold for each group. Afterwards, you will need to sort the data by the count of policies sold in descending order.*\n",
    "- *Next, you will select the top 3 states with the highest number of policies sold.*\n",
    "- *Finally, you will create a new DataFrame that contains the number of policies sold by month for each of the top 3 states.*"
   ]
  },
  {
   "cell_type": "markdown",
   "id": "ba975b8a-a2cf-4fbf-9f59-ebc381767009",
   "metadata": {
    "id": "ba975b8a-a2cf-4fbf-9f59-ebc381767009"
   },
   "source": [
    "7. The marketing team wants to analyze the effect of different marketing channels on the customer response rate.\n",
    "\n",
    "Hint: You can use melt to unpivot the data and create a table that shows the customer response rate (those who responded \"Yes\") by marketing channel."
   ]
  },
  {
   "cell_type": "markdown",
   "id": "e4378d94-48fb-4850-a802-b1bc8f427b2d",
   "metadata": {
    "id": "e4378d94-48fb-4850-a802-b1bc8f427b2d"
   },
   "source": [
    "External Resources for Data Filtering: https://towardsdatascience.com/filtering-data-frames-in-pandas-b570b1f834b9"
   ]
  },
  {
   "cell_type": "code",
   "execution_count": null,
   "id": "449513f4-0459-46a0-a18d-9398d974c9ad",
   "metadata": {
    "id": "449513f4-0459-46a0-a18d-9398d974c9ad"
   },
   "outputs": [],
   "source": [
    "# your code goes here"
   ]
  }
 ],
 "metadata": {
  "colab": {
   "provenance": []
  },
  "kernelspec": {
   "display_name": "Python 3 (ipykernel)",
   "language": "python",
   "name": "python3"
  },
  "language_info": {
   "codemirror_mode": {
    "name": "ipython",
    "version": 3
   },
   "file_extension": ".py",
   "mimetype": "text/x-python",
   "name": "python",
   "nbconvert_exporter": "python",
   "pygments_lexer": "ipython3",
   "version": "3.10.9"
  }
 },
 "nbformat": 4,
 "nbformat_minor": 5
}
